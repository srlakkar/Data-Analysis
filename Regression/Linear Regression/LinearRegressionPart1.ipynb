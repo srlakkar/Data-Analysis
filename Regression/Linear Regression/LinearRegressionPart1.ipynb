{
 "cells": [
  {
   "cell_type": "code",
   "execution_count": 1,
   "id": "1da35805-e6c0-4265-960a-0eb8e469dacb",
   "metadata": {},
   "outputs": [],
   "source": [
    "import numpy as np\n",
    "import pandas as pd\n",
    "import matplotlib.pyplot as plt\n",
    "from sklearn.model_selection import train_test_split\n",
    "from sklearn.linear_model import LinearRegression\n",
    "from sklearn.metrics import mean_squared_error, r2_score\n"
   ]
  },
  {
   "cell_type": "code",
   "execution_count": 2,
   "id": "d81dbe46-af4c-485d-9749-487ad1cdd15d",
   "metadata": {},
   "outputs": [
    {
     "name": "stdout",
     "output_type": "stream",
     "text": [
      "   Square Footage  Number of Bedrooms  Location Index   Price\n",
      "0            1660                   5               8  351679\n",
      "1            2094                   2               1  352308\n",
      "2            1930                   2               6  351839\n",
      "3            1895                   1               8  348685\n",
      "4            2438                   4               5  437905\n"
     ]
    }
   ],
   "source": [
    "# Set random seed for reproducibility\n",
    "np.random.seed(42)\n",
    "\n",
    "# Generate synthetic data\n",
    "num_samples = 100\n",
    "square_footage = np.random.randint(800, 3500, num_samples)  # Range of house sizes\n",
    "num_bedrooms = np.random.randint(1, 6, num_samples)  # Between 1 and 5 bedrooms\n",
    "location_index = np.random.randint(1, 10, num_samples)  # Neighborhood desirability (1-10)\n",
    "\n",
    "# Generate house prices using a formula\n",
    "house_prices = (square_footage * 150) + (num_bedrooms * 10000) + (location_index * 5000) + np.random.randint(5000, 20000, num_samples)\n",
    "\n",
    "# Create DataFrame\n",
    "data = pd.DataFrame({\n",
    "    'Square Footage': square_footage,\n",
    "    'Number of Bedrooms': num_bedrooms,\n",
    "    'Location Index': location_index,\n",
    "    'Price': house_prices\n",
    "})\n",
    "\n",
    "# Display first few rows\n",
    "print(data.head())\n"
   ]
  },
  {
   "cell_type": "code",
   "execution_count": 3,
   "id": "03456ad0-1c91-4e10-b5ed-0c08013c0025",
   "metadata": {},
   "outputs": [
    {
     "name": "stdout",
     "output_type": "stream",
     "text": [
      "Training data shape: (80, 3), Test data shape: (20, 3)\n"
     ]
    }
   ],
   "source": [
    "# Define features and target\n",
    "X = data[['Square Footage', 'Number of Bedrooms', 'Location Index']]\n",
    "y = data['Price']\n",
    "\n",
    "# Split data into 80% training and 20% testing\n",
    "X_train, X_test, y_train, y_test = train_test_split(X, y, test_size=0.2, random_state=42)\n",
    "\n",
    "# Display shapes\n",
    "print(f\"Training data shape: {X_train.shape}, Test data shape: {X_test.shape}\")\n"
   ]
  },
  {
   "cell_type": "code",
   "execution_count": 4,
   "id": "7be60c5a-f6ce-43ca-a3a1-598300306235",
   "metadata": {},
   "outputs": [
    {
     "name": "stdout",
     "output_type": "stream",
     "text": [
      "Intercept: 12637.397662525356\n",
      "Coefficients: [ 150.61479156 9191.83665336 4960.68212799]\n"
     ]
    }
   ],
   "source": [
    "# Initialize and train the model\n",
    "model = LinearRegression()\n",
    "model.fit(X_train, y_train)\n",
    "\n",
    "# Print model coefficients\n",
    "print(\"Intercept:\", model.intercept_)\n",
    "print(\"Coefficients:\", model.coef_)\n"
   ]
  },
  {
   "cell_type": "code",
   "execution_count": 6,
   "id": "40471ec1-c3f4-4751-802c-7bdf35b92379",
   "metadata": {},
   "outputs": [
    {
     "name": "stdout",
     "output_type": "stream",
     "text": [
      "    Actual Price  Predicted Price\n",
      "83        351358    349810.614371\n",
      "53        198196    194860.208948\n",
      "70        261242    258269.036195\n",
      "45        499159    501375.250133\n",
      "44        187836    193501.278713\n"
     ]
    }
   ],
   "source": [
    "# Make predictions\n",
    "y_pred = model.predict(X_test)\n",
    "\n",
    "# Display first few actual vs predicted values\n",
    "predictions_df = pd.DataFrame({'Actual Price': y_test, 'Predicted Price': y_pred})\n",
    "print(predictions_df.head())\n"
   ]
  },
  {
   "cell_type": "code",
   "execution_count": 7,
   "id": "dc07f7ab-0dd1-49d3-adbb-faa37802ccbe",
   "metadata": {},
   "outputs": [
    {
     "name": "stdout",
     "output_type": "stream",
     "text": [
      "Mean Squared Error: 16348698.16\n",
      "R² Score: 1.00\n"
     ]
    }
   ],
   "source": [
    "# Calculate Mean Squared Error\n",
    "mse = mean_squared_error(y_test, y_pred)\n",
    "r2 = r2_score(y_test, y_pred)\n",
    "\n",
    "print(f\"Mean Squared Error: {mse:.2f}\")\n",
    "print(f\"R² Score: {r2:.2f}\")\n"
   ]
  },
  {
   "cell_type": "code",
   "execution_count": 8,
   "id": "5117dcd8-d104-4a61-a8ae-43cbae831ed3",
   "metadata": {},
   "outputs": [
    {
     "data": {
      "image/png": "[encoded data removed]",
      "text/plain": [
       "<Figure size 640x480 with 1 Axes>"
      ]
     },
     "metadata": {},
     "output_type": "display_data"
    }
   ],
   "source": [
    "# Scatter plot for actual vs. predicted\n",
    "plt.scatter(y_test, y_pred, alpha=0.75)\n",
    "plt.xlabel(\"Actual Price\")\n",
    "plt.ylabel(\"Predicted Price\")\n",
    "plt.title(\"Actual vs Predicted House Prices\")\n",
    "plt.show()\n"
   ]
  },
  {
   "cell_type": "code",
   "execution_count": 6,
   "id": "8edd1d0d-4e06-4d5b-a72e-960829f01c53",
   "metadata": {},
   "outputs": [
    {
     "name": "stdout",
     "output_type": "stream",
     "text": [
      "\n",
      "Enter details for house price prediction:\n"
     ]
    },
    {
     "name": "stdin",
     "output_type": "stream",
     "text": [
      "Square Footage:  4000\n",
      "Number of Bedrooms (1-5):  4\n",
      "Location Index (1-10):  9\n"
     ]
    },
    {
     "name": "stdout",
     "output_type": "stream",
     "text": [
      "\n",
      "Predicted House Price: $696,510.05\n"
     ]
    },
    {
     "name": "stderr",
     "output_type": "stream",
     "text": [
      "c:\\Users\\srira\\OneDrive\\Desktop\\Python\\.venv\\Lib\\site-packages\\sklearn\\utils\\validation.py:2739: UserWarning: X does not have valid feature names, but LinearRegression was fitted with feature names\n",
      "  warnings.warn(\n"
     ]
    }
   ],
   "source": [
    "# Function to predict house price for new input values\n",
    "def predict_house_price(model):\n",
    "    print(\"\\nEnter details for house price prediction:\")\n",
    "    \n",
    "    # Get user input\n",
    "    square_footage = float(input(\"Square Footage: \"))\n",
    "    num_bedrooms = int(input(\"Number of Bedrooms (1-5): \"))\n",
    "    location_index = int(input(\"Location Index (1-10): \"))\n",
    "    \n",
    "    # Create input array\n",
    "    new_data = np.array([[square_footage, num_bedrooms, location_index]])\n",
    "    \n",
    "    # Make prediction\n",
    "    predicted_price = model.predict(new_data)\n",
    "    \n",
    "    print(f\"\\nPredicted House Price: ${predicted_price[0]:,.2f}\")\n",
    "\n",
    "# Call function to predict house price for user input\n",
    "predict_house_price(model)"
   ]
  }
 ],
 "metadata": {
  "kernelspec": {
   "display_name": "Python 3 (ipykernel)",
   "language": "python",
   "name": "python3"
  },
  "language_info": {
   "codemirror_mode": {
    "name": "ipython",
    "version": 3
   },
   "file_extension": ".py",
   "mimetype": "text/x-python",
   "name": "python",
   "nbconvert_exporter": "python",
   "pygments_lexer": "ipython3",
   "version": "3.11.9"
  }
 },
 "nbformat": 4,
 "nbformat_minor": 5
}
